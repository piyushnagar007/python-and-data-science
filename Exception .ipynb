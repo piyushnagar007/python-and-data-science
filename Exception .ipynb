{
 "cells": [
  {
   "cell_type": "markdown",
   "metadata": {},
   "source": [
    "#### Runtime error->exception\n",
    "##### Exceptions are logic errors not syntax"
   ]
  },
  {
   "cell_type": "code",
   "execution_count": null,
   "metadata": {},
   "outputs": [
    {
     "name": "stdout",
     "output_type": "stream",
     "text": [
      "Enter a number-45\n",
      "Enter a number45\n",
      "!!Error Only positive integers\n"
     ]
    }
   ],
   "source": [
    "while True:\n",
    "    try:\n",
    "        number=int(input(\"Enter a number\"))\n",
    "        if number>0:\n",
    "            raise ValueError(\"Only positive integers\")\n",
    "    except ValueError as e:\n",
    "        print(\"!!Error\",e)\n",
    "    "
   ]
  },
  {
   "cell_type": "code",
   "execution_count": null,
   "metadata": {},
   "outputs": [],
   "source": []
  }
 ],
 "metadata": {
  "kernelspec": {
   "display_name": "Python 3",
   "language": "python",
   "name": "python3"
  },
  "language_info": {
   "codemirror_mode": {
    "name": "ipython",
    "version": 3
   },
   "file_extension": ".py",
   "mimetype": "text/x-python",
   "name": "python",
   "nbconvert_exporter": "python",
   "pygments_lexer": "ipython3",
   "version": "3.7.3"
  }
 },
 "nbformat": 4,
 "nbformat_minor": 2
}
