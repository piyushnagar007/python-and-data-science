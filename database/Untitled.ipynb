{
 "cells": [
  {
   "cell_type": "code",
   "execution_count": 3,
   "metadata": {},
   "outputs": [],
   "source": [
    "import pymysql as sql"
   ]
  },
  {
   "cell_type": "code",
   "execution_count": 4,
   "metadata": {},
   "outputs": [],
   "source": [
    "db = sql.connect(host=\"127.0.0.1\",port=3306,user='root',password='',database='world')"
   ]
  },
  {
   "cell_type": "code",
   "execution_count": 5,
   "metadata": {},
   "outputs": [],
   "source": [
    "cur=db.cursor()"
   ]
  },
  {
   "cell_type": "code",
   "execution_count": 8,
   "metadata": {},
   "outputs": [],
   "source": [
    "cmd=\"select name,population from Country order by population desc limit 10\""
   ]
  },
  {
   "cell_type": "code",
   "execution_count": 9,
   "metadata": {},
   "outputs": [
    {
     "data": {
      "text/plain": [
       "10"
      ]
     },
     "execution_count": 9,
     "metadata": {},
     "output_type": "execute_result"
    }
   ],
   "source": [
    "cur.execute(cmd)"
   ]
  },
  {
   "cell_type": "code",
   "execution_count": 10,
   "metadata": {},
   "outputs": [],
   "source": [
    "data=cur.fetchall()"
   ]
  },
  {
   "cell_type": "code",
   "execution_count": 11,
   "metadata": {},
   "outputs": [
    {
     "data": {
      "text/plain": [
       "('India', 1013662000)"
      ]
     },
     "execution_count": 11,
     "metadata": {},
     "output_type": "execute_result"
    }
   ],
   "source": [
    "data[1]"
   ]
  },
  {
   "cell_type": "code",
   "execution_count": 12,
   "metadata": {},
   "outputs": [
    {
     "name": "stdout",
     "output_type": "stream",
     "text": [
      "     China\t\t1277558000\n",
      "________________________________________\n",
      "     India\t\t1013662000\n",
      "________________________________________\n",
      "United States\t\t 278357000\n",
      "________________________________________\n",
      " Indonesia\t\t 212107000\n",
      "________________________________________\n",
      "    Brazil\t\t 170115000\n",
      "________________________________________\n",
      "  Pakistan\t\t 156483000\n",
      "________________________________________\n",
      "Russian Federation\t\t 146934000\n",
      "________________________________________\n",
      "Bangladesh\t\t 129155000\n",
      "________________________________________\n",
      "     Japan\t\t 126714000\n",
      "________________________________________\n",
      "   Nigeria\t\t 111506000\n",
      "________________________________________\n"
     ]
    }
   ],
   "source": [
    "for country,population in data:\n",
    "    print(f\"{country:>10}\\t\\t{population:>10}\")\n",
    "    print(\"_\"*40)"
   ]
  },
  {
   "cell_type": "code",
   "execution_count": null,
   "metadata": {},
   "outputs": [],
   "source": []
  }
 ],
 "metadata": {
  "kernelspec": {
   "display_name": "Python 3",
   "language": "python",
   "name": "python3"
  },
  "language_info": {
   "codemirror_mode": {
    "name": "ipython",
    "version": 3
   },
   "file_extension": ".py",
   "mimetype": "text/x-python",
   "name": "python",
   "nbconvert_exporter": "python",
   "pygments_lexer": "ipython3",
   "version": "3.7.3"
  }
 },
 "nbformat": 4,
 "nbformat_minor": 2
}
