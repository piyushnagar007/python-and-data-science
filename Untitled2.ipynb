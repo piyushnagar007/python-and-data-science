{
 "cells": [
  {
   "cell_type": "code",
   "execution_count": 3,
   "metadata": {},
   "outputs": [],
   "source": [
    "import numpy as np\n",
    "import pandas as pd\n",
    "import matplotlib.pyplot as plt\n",
    "import seaborn as sns\n",
    "%matplotlib inline\n"
   ]
  },
  {
   "cell_type": "code",
   "execution_count": 75,
   "metadata": {},
   "outputs": [],
   "source": [
    "a= np.random.randint(30,50,40)"
   ]
  },
  {
   "cell_type": "code",
   "execution_count": 76,
   "metadata": {},
   "outputs": [
    {
     "data": {
      "text/plain": [
       "array([37, 43, 33, 49, 42, 38, 38, 46, 32, 41, 41, 39, 45, 38, 39, 48, 34,\n",
       "       48, 47, 40, 32, 33, 32, 37, 41, 33, 48, 46, 41, 44, 38, 39, 45, 32,\n",
       "       31, 44, 36, 40, 42, 32])"
      ]
     },
     "execution_count": 76,
     "metadata": {},
     "output_type": "execute_result"
    }
   ],
   "source": [
    "a"
   ]
  },
  {
   "cell_type": "code",
   "execution_count": 77,
   "metadata": {},
   "outputs": [],
   "source": [
    "b=np.random.randint(100,120,10)"
   ]
  },
  {
   "cell_type": "code",
   "execution_count": 78,
   "metadata": {},
   "outputs": [
    {
     "data": {
      "text/plain": [
       "array([116, 103, 119, 111, 114, 119, 113, 103, 117, 118])"
      ]
     },
     "execution_count": 78,
     "metadata": {},
     "output_type": "execute_result"
    }
   ],
   "source": [
    "b"
   ]
  },
  {
   "cell_type": "code",
   "execution_count": 79,
   "metadata": {},
   "outputs": [],
   "source": [
    "data=np.append(a,b)"
   ]
  },
  {
   "cell_type": "code",
   "execution_count": 80,
   "metadata": {},
   "outputs": [
    {
     "data": {
      "text/plain": [
       "array([ 37,  43,  33,  49,  42,  38,  38,  46,  32,  41,  41,  39,  45,\n",
       "        38,  39,  48,  34,  48,  47,  40,  32,  33,  32,  37,  41,  33,\n",
       "        48,  46,  41,  44,  38,  39,  45,  32,  31,  44,  36,  40,  42,\n",
       "        32, 116, 103, 119, 111, 114, 119, 113, 103, 117, 118])"
      ]
     },
     "execution_count": 80,
     "metadata": {},
     "output_type": "execute_result"
    }
   ],
   "source": [
    "data"
   ]
  },
  {
   "cell_type": "code",
   "execution_count": 18,
   "metadata": {},
   "outputs": [
    {
     "data": {
      "image/png": "[encoded data removed]",
      "text/plain": [
       "<Figure size 432x288 with 1 Axes>"
      ]
     },
     "metadata": {
      "needs_background": "light"
     },
     "output_type": "display_data"
    }
   ],
   "source": [
    "plt.hist(data,30,edgecolor='black')\n",
    "plt.show()"
   ]
  },
  {
   "cell_type": "code",
   "execution_count": 28,
   "metadata": {},
   "outputs": [],
   "source": [
    "data.mean()\n",
    "mn=data.mean()\n",
    "med=np.median(data)"
   ]
  },
  {
   "cell_type": "code",
   "execution_count": 30,
   "metadata": {},
   "outputs": [
    {
     "data": {
      "image/png": "[encoded data removed]",
      "text/plain": [
       "<Figure size 432x288 with 1 Axes>"
      ]
     },
     "metadata": {
      "needs_background": "light"
     },
     "output_type": "display_data"
    }
   ],
   "source": [
    "plt.plot(data,'ro')\n",
    "plt.plot([0,50],[mn,mn],lw=3,label='Mean')\n",
    "plt.plot([0,50],[med,med],lw=3,label='Median')\n",
    "plt.legend()\n",
    "plt.show()"
   ]
  },
  {
   "cell_type": "code",
   "execution_count": 95,
   "metadata": {},
   "outputs": [],
   "source": [
    "height=np.array([4.11,5,2,5,6,5,2,5,7,5,8])"
   ]
  },
  {
   "cell_type": "code",
   "execution_count": 96,
   "metadata": {},
   "outputs": [
    {
     "data": {
      "text/plain": [
       "4.919090909090909"
      ]
     },
     "execution_count": 96,
     "metadata": {},
     "output_type": "execute_result"
    }
   ],
   "source": [
    "np.mean(height)"
   ]
  },
  {
   "cell_type": "code",
   "execution_count": 97,
   "metadata": {},
   "outputs": [
    {
     "data": {
      "text/plain": [
       "5.0"
      ]
     },
     "execution_count": 97,
     "metadata": {},
     "output_type": "execute_result"
    }
   ],
   "source": [
    "np.median(height)"
   ]
  },
  {
   "cell_type": "code",
   "execution_count": 98,
   "metadata": {},
   "outputs": [],
   "source": [
    "dev=height-height.mean()"
   ]
  },
  {
   "cell_type": "code",
   "execution_count": 99,
   "metadata": {},
   "outputs": [
    {
     "data": {
      "text/plain": [
       "array([-0.80909091,  0.08090909, -2.91909091,  0.08090909,  1.08090909,\n",
       "        0.08090909, -2.91909091,  0.08090909,  2.08090909,  0.08090909,\n",
       "        3.08090909])"
      ]
     },
     "execution_count": 99,
     "metadata": {},
     "output_type": "execute_result"
    }
   ],
   "source": [
    "dev"
   ]
  },
  {
   "cell_type": "code",
   "execution_count": 100,
   "metadata": {},
   "outputs": [
    {
     "data": {
      "text/plain": [
       "1.7763568394002505e-15"
      ]
     },
     "execution_count": 100,
     "metadata": {},
     "output_type": "execute_result"
    }
   ],
   "source": [
    "dev.sum()"
   ]
  },
  {
   "cell_type": "code",
   "execution_count": 101,
   "metadata": {},
   "outputs": [],
   "source": [
    "dev=abs(dev).mean()"
   ]
  },
  {
   "cell_type": "code",
   "execution_count": 102,
   "metadata": {},
   "outputs": [
    {
     "data": {
      "text/plain": [
       "1.2085950413223143"
      ]
     },
     "execution_count": 102,
     "metadata": {},
     "output_type": "execute_result"
    }
   ],
   "source": [
    "dev"
   ]
  },
  {
   "cell_type": "code",
   "execution_count": 106,
   "metadata": {},
   "outputs": [
    {
     "name": "stdout",
     "output_type": "stream",
     "text": [
      "Deviation: 0.23749999999999993\n"
     ]
    }
   ],
   "source": [
    "height=np.array([4.9,5.2,5.6,5.2,5.7,5.8,5.4,5.3])\n",
    "dev=abs(height-height.mean()).sum()/height.size\n",
    "print(\"Deviation:\",dev)\n",
    "mn=height.mean()"
   ]
  },
  {
   "cell_type": "code",
   "execution_count": 110,
   "metadata": {},
   "outputs": [
    {
     "name": "stdout",
     "output_type": "stream",
     "text": [
      "0.0785937499999999\n"
     ]
    },
    {
     "data": {
      "image/png": "[encoded data removed]",
      "text/plain": [
       "<Figure size 432x288 with 1 Axes>"
      ]
     },
     "metadata": {
      "needs_background": "light"
     },
     "output_type": "display_data"
    }
   ],
   "source": [
    "var=height.var()\n",
    "print(var)\n",
    "plt.plot(height,'ro',label='Height')\n",
    "plt.plot([0,8],[height.mean(),height.mean()],lw=4,label='Mean')\n",
    "plt.plot([0,8],[mn+dev,mn+dev],'k-',label='dev')\n",
    "plt.plot([0,8],[mn-dev,mn-dev],'k-')\n",
    "plt.plot([0,8],[mn+var,mn+var],'b-',label='var')\n",
    "plt.plot([0,8],[mn-var,mn-var],'b-')                \n",
    "for i in range(8):\n",
    "    plt.plot([i,i],[height.mean(),height[i]])\n",
    "\n",
    "plt.legend()\n",
    "plt.show()"
   ]
  },
  {
   "cell_type": "code",
   "execution_count": 115,
   "metadata": {},
   "outputs": [
    {
     "data": {
      "image/png": "[encoded data removed]",
      "text/plain": [
       "<Figure size 432x288 with 1 Axes>"
      ]
     },
     "metadata": {
      "needs_background": "light"
     },
     "output_type": "display_data"
    }
   ],
   "source": [
    "from math import sqrt\n",
    "a=np.random.randint(30,40,50)\n",
    "b=np.random.randint(100,120,10)\n",
    "data=np.append(a,b)\n",
    "s=data.size\n",
    "s\n",
    "av=data.mean()\n",
    "deviat=abs(data-data.mean()).mean()\n",
    "var2=data.var()\n",
    "var2=sqrt(var2)\n",
    "plt.plot(data,'ro',label='Data')\n",
    "plt.plot([0,s],[data.mean(),data.mean()],lw=4,label='Mean')\n",
    "plt.plot([0,s],[av+deviat,av+deviat],label='+ve deviation')\n",
    "plt.plot([0,s],[av-deviat,av-deviat],label='-ve deviation')\n",
    "plt.plot([0,s],[av+var2,av+var2],label='+ve std')\n",
    "plt.plot([0,s],[av-var2,av-var2],label='-ve std')\n",
    "for i in range(s):\n",
    "    plt.plot([i,i],[data.mean(),data[i]],'c--')\n",
    "\n",
    "plt.legend()\n",
    "plt.show()"
   ]
  },
  {
   "cell_type": "code",
   "execution_count": null,
   "metadata": {},
   "outputs": [],
   "source": []
  }
 ],
 "metadata": {
  "kernelspec": {
   "display_name": "Python 3",
   "language": "python",
   "name": "python3"
  },
  "language_info": {
   "codemirror_mode": {
    "name": "ipython",
    "version": 3
   },
   "file_extension": ".py",
   "mimetype": "text/x-python",
   "name": "python",
   "nbconvert_exporter": "python",
   "pygments_lexer": "ipython3",
   "version": "3.7.3"
  }
 },
 "nbformat": 4,
 "nbformat_minor": 2
}
